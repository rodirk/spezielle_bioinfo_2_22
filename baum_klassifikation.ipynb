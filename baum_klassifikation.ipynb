{
  "cells": [
    {
      "cell_type": "markdown",
      "metadata": {
        "id": "view-in-github",
        "colab_type": "text"
      },
      "source": [
        "<a href=\"https://colab.research.google.com/github/rodirk/spezielle_bioinfo_2_22/blob/main/baum_klassifikation.ipynb\" target=\"_parent\"><img src=\"https://colab.research.google.com/assets/colab-badge.svg\" alt=\"Open In Colab\"/></a>"
      ]
    },
    {
      "cell_type": "markdown",
      "id": "286a4244-fa46-4fd9-ae20-9f5448fce45b",
      "metadata": {
        "id": "286a4244-fa46-4fd9-ae20-9f5448fce45b"
      },
      "source": [
        "# Baum Klassifikation"
      ]
    },
    {
      "cell_type": "markdown",
      "source": [
        "Aufgabe ist es Bäume anhand verschiedener Messwerte (Stammdurchmesser, Kronenradius, Höhe, Geographischer Ort) ihrer jeweiligen Art zuzuweisen. Die Daten stammen von [Tallo: A global tree allometry and crown architecture database](https://onlinelibrary.wiley.com/doi/10.1111/gcb.16302)."
      ],
      "metadata": {
        "id": "s35CmqYvR-Of"
      },
      "id": "s35CmqYvR-Of"
    },
    {
      "cell_type": "markdown",
      "source": [
        "## Setup"
      ],
      "metadata": {
        "id": "Spu4-GcCRhny"
      },
      "id": "Spu4-GcCRhny"
    },
    {
      "cell_type": "code",
      "execution_count": 2,
      "id": "13a75b94-512a-4e49-be83-8945e51044f7",
      "metadata": {
        "id": "13a75b94-512a-4e49-be83-8945e51044f7"
      },
      "outputs": [],
      "source": [
        "import numpy as np\n",
        "import pandas as pd\n",
        "from sklearn.model_selection import train_test_split"
      ]
    },
    {
      "cell_type": "markdown",
      "id": "54d43503-8748-4a0b-a279-db05cbcb020a",
      "metadata": {
        "id": "54d43503-8748-4a0b-a279-db05cbcb020a"
      },
      "source": [
        "### Data Loading"
      ]
    },
    {
      "cell_type": "code",
      "execution_count": 3,
      "id": "6b6d2e84-2459-4b3b-9a8c-d20caf5d10e0",
      "metadata": {
        "id": "6b6d2e84-2459-4b3b-9a8c-d20caf5d10e0"
      },
      "outputs": [],
      "source": [
        "data = pd.read_csv(\"https://raw.githubusercontent.com/ddojo/ddojo.github.io/main/sessions/14_trees/train.tsv\", sep=\"\\t\")"
      ]
    },
    {
      "cell_type": "code",
      "execution_count": 4,
      "id": "3419a08e-0c77-4dbf-9cbc-3f872a24d3fc",
      "metadata": {
        "id": "3419a08e-0c77-4dbf-9cbc-3f872a24d3fc"
      },
      "outputs": [],
      "source": [
        "X = data.dropna().drop(\"species\",axis=1)\n",
        "y = data.dropna().species\n",
        "X_train, X_val, y_train, y_val = train_test_split(X, y, random_state=42)"
      ]
    },
    {
      "cell_type": "markdown",
      "source": [
        "#### Test data for later (ignore for now)"
      ],
      "metadata": {
        "id": "u1QrHflVQu8d"
      },
      "id": "u1QrHflVQu8d"
    },
    {
      "cell_type": "code",
      "execution_count": 9,
      "id": "009d4f59-11ba-4469-ad62-a9c35f07d4dc",
      "metadata": {
        "id": "009d4f59-11ba-4469-ad62-a9c35f07d4dc"
      },
      "outputs": [],
      "source": [
        "test = pd.read_csv(\"https://raw.githubusercontent.com/ddojo/ddojo.github.io/main/sessions/14_trees/test.tsv\", sep=\"\\t\")\n",
        "X_test = test.dropna().drop(\"tree_id\",axis=1)\n",
        "tree_id = test.dropna().tree_id\n",
        "pred = pd.DataFrame()\n",
        "pred[\"tree_id\"] = tree_id\n",
        "pred[\"species\"] = \"unknown\""
      ]
    },
    {
      "cell_type": "markdown",
      "source": [
        "## Explore Data"
      ],
      "metadata": {
        "id": "4yQFbNs0Q6DS"
      },
      "id": "4yQFbNs0Q6DS"
    },
    {
      "cell_type": "code",
      "source": [
        "data"
      ],
      "metadata": {
        "colab": {
          "base_uri": "https://localhost:8080/",
          "height": 424
        },
        "id": "BhYJq9g1Q8pM",
        "outputId": "2950c36f-2324-4e1d-afce-df9501f6360a"
      },
      "id": "BhYJq9g1Q8pM",
      "execution_count": 6,
      "outputs": [
        {
          "output_type": "execute_result",
          "data": {
            "text/plain": [
              "               species  latitude  longitude  stem_diameter_cm  height_m  \\\n",
              "0      Fagus sylvatica     46.01      11.44               5.0       6.7   \n",
              "1      Fagus sylvatica     46.03      11.44               5.0      11.1   \n",
              "2      Fagus sylvatica     46.03      11.44               5.0      14.2   \n",
              "3      Fagus sylvatica     46.03      11.44               5.0       5.7   \n",
              "4      Fagus sylvatica     46.03      11.44               5.0       8.0   \n",
              "...                ...       ...        ...               ...       ...   \n",
              "35094  Fagus sylvatica     47.38       9.09              36.0      22.6   \n",
              "35095  Fagus sylvatica     46.74       6.85              37.0      34.3   \n",
              "35096  Fagus sylvatica     47.45       9.29              38.0      33.8   \n",
              "35097  Fagus sylvatica     46.52       6.35              40.0      29.3   \n",
              "35098  Fagus sylvatica     47.31       8.99              59.0      36.9   \n",
              "\n",
              "       crown_radius_m  \n",
              "0                2.05  \n",
              "1                2.90  \n",
              "2                4.00  \n",
              "3                2.10  \n",
              "4                4.15  \n",
              "...               ...  \n",
              "35094            4.50  \n",
              "35095            4.50  \n",
              "35096            5.00  \n",
              "35097            6.00  \n",
              "35098            7.00  \n",
              "\n",
              "[35099 rows x 6 columns]"
            ],
            "text/html": [
              "\n",
              "  <div id=\"df-4b64b00f-0be5-4abf-9938-44b3d0bd5b05\">\n",
              "    <div class=\"colab-df-container\">\n",
              "      <div>\n",
              "<style scoped>\n",
              "    .dataframe tbody tr th:only-of-type {\n",
              "        vertical-align: middle;\n",
              "    }\n",
              "\n",
              "    .dataframe tbody tr th {\n",
              "        vertical-align: top;\n",
              "    }\n",
              "\n",
              "    .dataframe thead th {\n",
              "        text-align: right;\n",
              "    }\n",
              "</style>\n",
              "<table border=\"1\" class=\"dataframe\">\n",
              "  <thead>\n",
              "    <tr style=\"text-align: right;\">\n",
              "      <th></th>\n",
              "      <th>species</th>\n",
              "      <th>latitude</th>\n",
              "      <th>longitude</th>\n",
              "      <th>stem_diameter_cm</th>\n",
              "      <th>height_m</th>\n",
              "      <th>crown_radius_m</th>\n",
              "    </tr>\n",
              "  </thead>\n",
              "  <tbody>\n",
              "    <tr>\n",
              "      <th>0</th>\n",
              "      <td>Fagus sylvatica</td>\n",
              "      <td>46.01</td>\n",
              "      <td>11.44</td>\n",
              "      <td>5.0</td>\n",
              "      <td>6.7</td>\n",
              "      <td>2.05</td>\n",
              "    </tr>\n",
              "    <tr>\n",
              "      <th>1</th>\n",
              "      <td>Fagus sylvatica</td>\n",
              "      <td>46.03</td>\n",
              "      <td>11.44</td>\n",
              "      <td>5.0</td>\n",
              "      <td>11.1</td>\n",
              "      <td>2.90</td>\n",
              "    </tr>\n",
              "    <tr>\n",
              "      <th>2</th>\n",
              "      <td>Fagus sylvatica</td>\n",
              "      <td>46.03</td>\n",
              "      <td>11.44</td>\n",
              "      <td>5.0</td>\n",
              "      <td>14.2</td>\n",
              "      <td>4.00</td>\n",
              "    </tr>\n",
              "    <tr>\n",
              "      <th>3</th>\n",
              "      <td>Fagus sylvatica</td>\n",
              "      <td>46.03</td>\n",
              "      <td>11.44</td>\n",
              "      <td>5.0</td>\n",
              "      <td>5.7</td>\n",
              "      <td>2.10</td>\n",
              "    </tr>\n",
              "    <tr>\n",
              "      <th>4</th>\n",
              "      <td>Fagus sylvatica</td>\n",
              "      <td>46.03</td>\n",
              "      <td>11.44</td>\n",
              "      <td>5.0</td>\n",
              "      <td>8.0</td>\n",
              "      <td>4.15</td>\n",
              "    </tr>\n",
              "    <tr>\n",
              "      <th>...</th>\n",
              "      <td>...</td>\n",
              "      <td>...</td>\n",
              "      <td>...</td>\n",
              "      <td>...</td>\n",
              "      <td>...</td>\n",
              "      <td>...</td>\n",
              "    </tr>\n",
              "    <tr>\n",
              "      <th>35094</th>\n",
              "      <td>Fagus sylvatica</td>\n",
              "      <td>47.38</td>\n",
              "      <td>9.09</td>\n",
              "      <td>36.0</td>\n",
              "      <td>22.6</td>\n",
              "      <td>4.50</td>\n",
              "    </tr>\n",
              "    <tr>\n",
              "      <th>35095</th>\n",
              "      <td>Fagus sylvatica</td>\n",
              "      <td>46.74</td>\n",
              "      <td>6.85</td>\n",
              "      <td>37.0</td>\n",
              "      <td>34.3</td>\n",
              "      <td>4.50</td>\n",
              "    </tr>\n",
              "    <tr>\n",
              "      <th>35096</th>\n",
              "      <td>Fagus sylvatica</td>\n",
              "      <td>47.45</td>\n",
              "      <td>9.29</td>\n",
              "      <td>38.0</td>\n",
              "      <td>33.8</td>\n",
              "      <td>5.00</td>\n",
              "    </tr>\n",
              "    <tr>\n",
              "      <th>35097</th>\n",
              "      <td>Fagus sylvatica</td>\n",
              "      <td>46.52</td>\n",
              "      <td>6.35</td>\n",
              "      <td>40.0</td>\n",
              "      <td>29.3</td>\n",
              "      <td>6.00</td>\n",
              "    </tr>\n",
              "    <tr>\n",
              "      <th>35098</th>\n",
              "      <td>Fagus sylvatica</td>\n",
              "      <td>47.31</td>\n",
              "      <td>8.99</td>\n",
              "      <td>59.0</td>\n",
              "      <td>36.9</td>\n",
              "      <td>7.00</td>\n",
              "    </tr>\n",
              "  </tbody>\n",
              "</table>\n",
              "<p>35099 rows × 6 columns</p>\n",
              "</div>\n",
              "      <button class=\"colab-df-convert\" onclick=\"convertToInteractive('df-4b64b00f-0be5-4abf-9938-44b3d0bd5b05')\"\n",
              "              title=\"Convert this dataframe to an interactive table.\"\n",
              "              style=\"display:none;\">\n",
              "        \n",
              "  <svg xmlns=\"http://www.w3.org/2000/svg\" height=\"24px\"viewBox=\"0 0 24 24\"\n",
              "       width=\"24px\">\n",
              "    <path d=\"M0 0h24v24H0V0z\" fill=\"none\"/>\n",
              "    <path d=\"M18.56 5.44l.94 2.06.94-2.06 2.06-.94-2.06-.94-.94-2.06-.94 2.06-2.06.94zm-11 1L8.5 8.5l.94-2.06 2.06-.94-2.06-.94L8.5 2.5l-.94 2.06-2.06.94zm10 10l.94 2.06.94-2.06 2.06-.94-2.06-.94-.94-2.06-.94 2.06-2.06.94z\"/><path d=\"M17.41 7.96l-1.37-1.37c-.4-.4-.92-.59-1.43-.59-.52 0-1.04.2-1.43.59L10.3 9.45l-7.72 7.72c-.78.78-.78 2.05 0 2.83L4 21.41c.39.39.9.59 1.41.59.51 0 1.02-.2 1.41-.59l7.78-7.78 2.81-2.81c.8-.78.8-2.07 0-2.86zM5.41 20L4 18.59l7.72-7.72 1.47 1.35L5.41 20z\"/>\n",
              "  </svg>\n",
              "      </button>\n",
              "      \n",
              "  <style>\n",
              "    .colab-df-container {\n",
              "      display:flex;\n",
              "      flex-wrap:wrap;\n",
              "      gap: 12px;\n",
              "    }\n",
              "\n",
              "    .colab-df-convert {\n",
              "      background-color: #E8F0FE;\n",
              "      border: none;\n",
              "      border-radius: 50%;\n",
              "      cursor: pointer;\n",
              "      display: none;\n",
              "      fill: #1967D2;\n",
              "      height: 32px;\n",
              "      padding: 0 0 0 0;\n",
              "      width: 32px;\n",
              "    }\n",
              "\n",
              "    .colab-df-convert:hover {\n",
              "      background-color: #E2EBFA;\n",
              "      box-shadow: 0px 1px 2px rgba(60, 64, 67, 0.3), 0px 1px 3px 1px rgba(60, 64, 67, 0.15);\n",
              "      fill: #174EA6;\n",
              "    }\n",
              "\n",
              "    [theme=dark] .colab-df-convert {\n",
              "      background-color: #3B4455;\n",
              "      fill: #D2E3FC;\n",
              "    }\n",
              "\n",
              "    [theme=dark] .colab-df-convert:hover {\n",
              "      background-color: #434B5C;\n",
              "      box-shadow: 0px 1px 3px 1px rgba(0, 0, 0, 0.15);\n",
              "      filter: drop-shadow(0px 1px 2px rgba(0, 0, 0, 0.3));\n",
              "      fill: #FFFFFF;\n",
              "    }\n",
              "  </style>\n",
              "\n",
              "      <script>\n",
              "        const buttonEl =\n",
              "          document.querySelector('#df-4b64b00f-0be5-4abf-9938-44b3d0bd5b05 button.colab-df-convert');\n",
              "        buttonEl.style.display =\n",
              "          google.colab.kernel.accessAllowed ? 'block' : 'none';\n",
              "\n",
              "        async function convertToInteractive(key) {\n",
              "          const element = document.querySelector('#df-4b64b00f-0be5-4abf-9938-44b3d0bd5b05');\n",
              "          const dataTable =\n",
              "            await google.colab.kernel.invokeFunction('convertToInteractive',\n",
              "                                                     [key], {});\n",
              "          if (!dataTable) return;\n",
              "\n",
              "          const docLinkHtml = 'Like what you see? Visit the ' +\n",
              "            '<a target=\"_blank\" href=https://colab.research.google.com/notebooks/data_table.ipynb>data table notebook</a>'\n",
              "            + ' to learn more about interactive tables.';\n",
              "          element.innerHTML = '';\n",
              "          dataTable['output_type'] = 'display_data';\n",
              "          await google.colab.output.renderOutput(dataTable, element);\n",
              "          const docLink = document.createElement('div');\n",
              "          docLink.innerHTML = docLinkHtml;\n",
              "          element.appendChild(docLink);\n",
              "        }\n",
              "      </script>\n",
              "    </div>\n",
              "  </div>\n",
              "  "
            ]
          },
          "metadata": {},
          "execution_count": 6
        }
      ]
    },
    {
      "cell_type": "code",
      "source": [
        "# Add your own exploration (e.g. plots)"
      ],
      "metadata": {
        "id": "Vww0SywiQ-ej"
      },
      "id": "Vww0SywiQ-ej",
      "execution_count": null,
      "outputs": []
    },
    {
      "cell_type": "markdown",
      "id": "aadedb14-b434-4331-89ba-2bfcc065657b",
      "metadata": {
        "id": "aadedb14-b434-4331-89ba-2bfcc065657b"
      },
      "source": [
        "## Train Models"
      ]
    },
    {
      "cell_type": "markdown",
      "source": [
        "### Decision Trees"
      ],
      "metadata": {
        "id": "KiSdpSUdRHUN"
      },
      "id": "KiSdpSUdRHUN"
    },
    {
      "cell_type": "code",
      "source": [
        "from sklearn.tree import DecisionTreeClassifier"
      ],
      "metadata": {
        "id": "R3VDlZi3RGrj"
      },
      "id": "R3VDlZi3RGrj",
      "execution_count": 7,
      "outputs": []
    },
    {
      "cell_type": "code",
      "execution_count": null,
      "id": "70fddc6c-2801-4ab9-97a6-a338ab429d34",
      "metadata": {
        "id": "70fddc6c-2801-4ab9-97a6-a338ab429d34"
      },
      "outputs": [],
      "source": [
        "# Train some Decision Trees"
      ]
    },
    {
      "cell_type": "markdown",
      "source": [
        "### K Nearest Neighbors"
      ],
      "metadata": {
        "id": "RPx5oAGdRM2T"
      },
      "id": "RPx5oAGdRM2T"
    },
    {
      "cell_type": "code",
      "execution_count": 8,
      "id": "97cc55f6-228e-411c-bec5-8eedd8ea756d",
      "metadata": {
        "id": "97cc55f6-228e-411c-bec5-8eedd8ea756d"
      },
      "outputs": [],
      "source": [
        "from sklearn.neighbors import KNeighborsClassifier"
      ]
    },
    {
      "cell_type": "code",
      "execution_count": null,
      "id": "3c7bc3f6-44d4-4460-a597-5cb486d05f7a",
      "metadata": {
        "id": "3c7bc3f6-44d4-4460-a597-5cb486d05f7a"
      },
      "outputs": [],
      "source": [
        "# Train some KNN models"
      ]
    },
    {
      "cell_type": "code",
      "execution_count": null,
      "id": "49d01b22-70e0-4883-92c4-4ca195f15163",
      "metadata": {
        "id": "49d01b22-70e0-4883-92c4-4ca195f15163"
      },
      "outputs": [],
      "source": [
        "# Train some other model types"
      ]
    },
    {
      "cell_type": "markdown",
      "id": "18e431de-d3f1-48c0-92de-22a9ac687a21",
      "metadata": {
        "id": "18e431de-d3f1-48c0-92de-22a9ac687a21"
      },
      "source": [
        "## Save Test Predictions (for later, ignore for now)"
      ]
    },
    {
      "cell_type": "code",
      "execution_count": null,
      "id": "86b050b9-4f4d-4286-8d0c-340c77fda2f5",
      "metadata": {
        "id": "86b050b9-4f4d-4286-8d0c-340c77fda2f5"
      },
      "outputs": [],
      "source": [
        "pred[\"species\"] = model.fit(X_test)\n",
        "pred.to_csv(\"my_prediction.tsv\", sep=\"\\t\")"
      ]
    }
  ],
  "metadata": {
    "kernelspec": {
      "display_name": "Python 3 (ipykernel)",
      "language": "python",
      "name": "python3"
    },
    "language_info": {
      "codemirror_mode": {
        "name": "ipython",
        "version": 3
      },
      "file_extension": ".py",
      "mimetype": "text/x-python",
      "name": "python",
      "nbconvert_exporter": "python",
      "pygments_lexer": "ipython3",
      "version": "3.9.9"
    },
    "colab": {
      "provenance": [],
      "collapsed_sections": [],
      "toc_visible": true,
      "include_colab_link": true
    }
  },
  "nbformat": 4,
  "nbformat_minor": 5
}