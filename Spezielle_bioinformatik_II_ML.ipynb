{
  "nbformat": 4,
  "nbformat_minor": 0,
  "metadata": {
    "colab": {
      "provenance": [],
      "collapsed_sections": [],
      "authorship_tag": "ABX9TyOw9nHvy1jLu4diSYpIsUNf",
      "include_colab_link": true
    },
    "kernelspec": {
      "name": "python3",
      "display_name": "Python 3"
    },
    "language_info": {
      "name": "python"
    }
  },
  "cells": [
    {
      "cell_type": "markdown",
      "metadata": {
        "id": "view-in-github",
        "colab_type": "text"
      },
      "source": [
        "<a href=\"https://colab.research.google.com/github/rodirk/spezielle_bioinfo_2_22/blob/main/Spezielle_bioinformatik_II_ML.ipynb\" target=\"_parent\"><img src=\"https://colab.research.google.com/assets/colab-badge.svg\" alt=\"Open In Colab\"/></a>"
      ]
    },
    {
      "cell_type": "markdown",
      "source": [
        "# Machine Learning\n",
        "\n",
        "## Pinguine"
      ],
      "metadata": {
        "id": "0BtaRfrMpIqi"
      }
    },
    {
      "cell_type": "markdown",
      "source": [
        "### Exploration"
      ],
      "metadata": {
        "id": "1NDqNBup5Aso"
      }
    },
    {
      "cell_type": "code",
      "execution_count": null,
      "metadata": {
        "id": "MtTOQIwuod0O"
      },
      "outputs": [],
      "source": [
        "import seaborn as sns"
      ]
    },
    {
      "cell_type": "code",
      "source": [
        "penguins_raw = sns.load_dataset(\"penguins\")"
      ],
      "metadata": {
        "id": "6ydO6ZLSpYud"
      },
      "execution_count": null,
      "outputs": []
    },
    {
      "cell_type": "code",
      "source": [
        "penguins_raw"
      ],
      "metadata": {
        "colab": {
          "base_uri": "https://localhost:8080/",
          "height": 424
        },
        "id": "f3RHc8ELpp4E",
        "outputId": "0bf646c4-63b9-4d01-fb2f-afdbca76fb22"
      },
      "execution_count": null,
      "outputs": [
        {
          "output_type": "execute_result",
          "data": {
            "text/plain": [
              "    species     island  bill_length_mm  bill_depth_mm  flipper_length_mm  \\\n",
              "0    Adelie  Torgersen            39.1           18.7              181.0   \n",
              "1    Adelie  Torgersen            39.5           17.4              186.0   \n",
              "2    Adelie  Torgersen            40.3           18.0              195.0   \n",
              "3    Adelie  Torgersen             NaN            NaN                NaN   \n",
              "4    Adelie  Torgersen            36.7           19.3              193.0   \n",
              "..      ...        ...             ...            ...                ...   \n",
              "339  Gentoo     Biscoe             NaN            NaN                NaN   \n",
              "340  Gentoo     Biscoe            46.8           14.3              215.0   \n",
              "341  Gentoo     Biscoe            50.4           15.7              222.0   \n",
              "342  Gentoo     Biscoe            45.2           14.8              212.0   \n",
              "343  Gentoo     Biscoe            49.9           16.1              213.0   \n",
              "\n",
              "     body_mass_g     sex  \n",
              "0         3750.0    Male  \n",
              "1         3800.0  Female  \n",
              "2         3250.0  Female  \n",
              "3            NaN     NaN  \n",
              "4         3450.0  Female  \n",
              "..           ...     ...  \n",
              "339          NaN     NaN  \n",
              "340       4850.0  Female  \n",
              "341       5750.0    Male  \n",
              "342       5200.0  Female  \n",
              "343       5400.0    Male  \n",
              "\n",
              "[344 rows x 7 columns]"
            ],
            "text/html": [
              "\n",
              "  <div id=\"df-486e9cd8-d739-44db-a60d-ae3ff5986c88\">\n",
              "    <div class=\"colab-df-container\">\n",
              "      <div>\n",
              "<style scoped>\n",
              "    .dataframe tbody tr th:only-of-type {\n",
              "        vertical-align: middle;\n",
              "    }\n",
              "\n",
              "    .dataframe tbody tr th {\n",
              "        vertical-align: top;\n",
              "    }\n",
              "\n",
              "    .dataframe thead th {\n",
              "        text-align: right;\n",
              "    }\n",
              "</style>\n",
              "<table border=\"1\" class=\"dataframe\">\n",
              "  <thead>\n",
              "    <tr style=\"text-align: right;\">\n",
              "      <th></th>\n",
              "      <th>species</th>\n",
              "      <th>island</th>\n",
              "      <th>bill_length_mm</th>\n",
              "      <th>bill_depth_mm</th>\n",
              "      <th>flipper_length_mm</th>\n",
              "      <th>body_mass_g</th>\n",
              "      <th>sex</th>\n",
              "    </tr>\n",
              "  </thead>\n",
              "  <tbody>\n",
              "    <tr>\n",
              "      <th>0</th>\n",
              "      <td>Adelie</td>\n",
              "      <td>Torgersen</td>\n",
              "      <td>39.1</td>\n",
              "      <td>18.7</td>\n",
              "      <td>181.0</td>\n",
              "      <td>3750.0</td>\n",
              "      <td>Male</td>\n",
              "    </tr>\n",
              "    <tr>\n",
              "      <th>1</th>\n",
              "      <td>Adelie</td>\n",
              "      <td>Torgersen</td>\n",
              "      <td>39.5</td>\n",
              "      <td>17.4</td>\n",
              "      <td>186.0</td>\n",
              "      <td>3800.0</td>\n",
              "      <td>Female</td>\n",
              "    </tr>\n",
              "    <tr>\n",
              "      <th>2</th>\n",
              "      <td>Adelie</td>\n",
              "      <td>Torgersen</td>\n",
              "      <td>40.3</td>\n",
              "      <td>18.0</td>\n",
              "      <td>195.0</td>\n",
              "      <td>3250.0</td>\n",
              "      <td>Female</td>\n",
              "    </tr>\n",
              "    <tr>\n",
              "      <th>3</th>\n",
              "      <td>Adelie</td>\n",
              "      <td>Torgersen</td>\n",
              "      <td>NaN</td>\n",
              "      <td>NaN</td>\n",
              "      <td>NaN</td>\n",
              "      <td>NaN</td>\n",
              "      <td>NaN</td>\n",
              "    </tr>\n",
              "    <tr>\n",
              "      <th>4</th>\n",
              "      <td>Adelie</td>\n",
              "      <td>Torgersen</td>\n",
              "      <td>36.7</td>\n",
              "      <td>19.3</td>\n",
              "      <td>193.0</td>\n",
              "      <td>3450.0</td>\n",
              "      <td>Female</td>\n",
              "    </tr>\n",
              "    <tr>\n",
              "      <th>...</th>\n",
              "      <td>...</td>\n",
              "      <td>...</td>\n",
              "      <td>...</td>\n",
              "      <td>...</td>\n",
              "      <td>...</td>\n",
              "      <td>...</td>\n",
              "      <td>...</td>\n",
              "    </tr>\n",
              "    <tr>\n",
              "      <th>339</th>\n",
              "      <td>Gentoo</td>\n",
              "      <td>Biscoe</td>\n",
              "      <td>NaN</td>\n",
              "      <td>NaN</td>\n",
              "      <td>NaN</td>\n",
              "      <td>NaN</td>\n",
              "      <td>NaN</td>\n",
              "    </tr>\n",
              "    <tr>\n",
              "      <th>340</th>\n",
              "      <td>Gentoo</td>\n",
              "      <td>Biscoe</td>\n",
              "      <td>46.8</td>\n",
              "      <td>14.3</td>\n",
              "      <td>215.0</td>\n",
              "      <td>4850.0</td>\n",
              "      <td>Female</td>\n",
              "    </tr>\n",
              "    <tr>\n",
              "      <th>341</th>\n",
              "      <td>Gentoo</td>\n",
              "      <td>Biscoe</td>\n",
              "      <td>50.4</td>\n",
              "      <td>15.7</td>\n",
              "      <td>222.0</td>\n",
              "      <td>5750.0</td>\n",
              "      <td>Male</td>\n",
              "    </tr>\n",
              "    <tr>\n",
              "      <th>342</th>\n",
              "      <td>Gentoo</td>\n",
              "      <td>Biscoe</td>\n",
              "      <td>45.2</td>\n",
              "      <td>14.8</td>\n",
              "      <td>212.0</td>\n",
              "      <td>5200.0</td>\n",
              "      <td>Female</td>\n",
              "    </tr>\n",
              "    <tr>\n",
              "      <th>343</th>\n",
              "      <td>Gentoo</td>\n",
              "      <td>Biscoe</td>\n",
              "      <td>49.9</td>\n",
              "      <td>16.1</td>\n",
              "      <td>213.0</td>\n",
              "      <td>5400.0</td>\n",
              "      <td>Male</td>\n",
              "    </tr>\n",
              "  </tbody>\n",
              "</table>\n",
              "<p>344 rows × 7 columns</p>\n",
              "</div>\n",
              "      <button class=\"colab-df-convert\" onclick=\"convertToInteractive('df-486e9cd8-d739-44db-a60d-ae3ff5986c88')\"\n",
              "              title=\"Convert this dataframe to an interactive table.\"\n",
              "              style=\"display:none;\">\n",
              "        \n",
              "  <svg xmlns=\"http://www.w3.org/2000/svg\" height=\"24px\"viewBox=\"0 0 24 24\"\n",
              "       width=\"24px\">\n",
              "    <path d=\"M0 0h24v24H0V0z\" fill=\"none\"/>\n",
              "    <path d=\"M18.56 5.44l.94 2.06.94-2.06 2.06-.94-2.06-.94-.94-2.06-.94 2.06-2.06.94zm-11 1L8.5 8.5l.94-2.06 2.06-.94-2.06-.94L8.5 2.5l-.94 2.06-2.06.94zm10 10l.94 2.06.94-2.06 2.06-.94-2.06-.94-.94-2.06-.94 2.06-2.06.94z\"/><path d=\"M17.41 7.96l-1.37-1.37c-.4-.4-.92-.59-1.43-.59-.52 0-1.04.2-1.43.59L10.3 9.45l-7.72 7.72c-.78.78-.78 2.05 0 2.83L4 21.41c.39.39.9.59 1.41.59.51 0 1.02-.2 1.41-.59l7.78-7.78 2.81-2.81c.8-.78.8-2.07 0-2.86zM5.41 20L4 18.59l7.72-7.72 1.47 1.35L5.41 20z\"/>\n",
              "  </svg>\n",
              "      </button>\n",
              "      \n",
              "  <style>\n",
              "    .colab-df-container {\n",
              "      display:flex;\n",
              "      flex-wrap:wrap;\n",
              "      gap: 12px;\n",
              "    }\n",
              "\n",
              "    .colab-df-convert {\n",
              "      background-color: #E8F0FE;\n",
              "      border: none;\n",
              "      border-radius: 50%;\n",
              "      cursor: pointer;\n",
              "      display: none;\n",
              "      fill: #1967D2;\n",
              "      height: 32px;\n",
              "      padding: 0 0 0 0;\n",
              "      width: 32px;\n",
              "    }\n",
              "\n",
              "    .colab-df-convert:hover {\n",
              "      background-color: #E2EBFA;\n",
              "      box-shadow: 0px 1px 2px rgba(60, 64, 67, 0.3), 0px 1px 3px 1px rgba(60, 64, 67, 0.15);\n",
              "      fill: #174EA6;\n",
              "    }\n",
              "\n",
              "    [theme=dark] .colab-df-convert {\n",
              "      background-color: #3B4455;\n",
              "      fill: #D2E3FC;\n",
              "    }\n",
              "\n",
              "    [theme=dark] .colab-df-convert:hover {\n",
              "      background-color: #434B5C;\n",
              "      box-shadow: 0px 1px 3px 1px rgba(0, 0, 0, 0.15);\n",
              "      filter: drop-shadow(0px 1px 2px rgba(0, 0, 0, 0.3));\n",
              "      fill: #FFFFFF;\n",
              "    }\n",
              "  </style>\n",
              "\n",
              "      <script>\n",
              "        const buttonEl =\n",
              "          document.querySelector('#df-486e9cd8-d739-44db-a60d-ae3ff5986c88 button.colab-df-convert');\n",
              "        buttonEl.style.display =\n",
              "          google.colab.kernel.accessAllowed ? 'block' : 'none';\n",
              "\n",
              "        async function convertToInteractive(key) {\n",
              "          const element = document.querySelector('#df-486e9cd8-d739-44db-a60d-ae3ff5986c88');\n",
              "          const dataTable =\n",
              "            await google.colab.kernel.invokeFunction('convertToInteractive',\n",
              "                                                     [key], {});\n",
              "          if (!dataTable) return;\n",
              "\n",
              "          const docLinkHtml = 'Like what you see? Visit the ' +\n",
              "            '<a target=\"_blank\" href=https://colab.research.google.com/notebooks/data_table.ipynb>data table notebook</a>'\n",
              "            + ' to learn more about interactive tables.';\n",
              "          element.innerHTML = '';\n",
              "          dataTable['output_type'] = 'display_data';\n",
              "          await google.colab.output.renderOutput(dataTable, element);\n",
              "          const docLink = document.createElement('div');\n",
              "          docLink.innerHTML = docLinkHtml;\n",
              "          element.appendChild(docLink);\n",
              "        }\n",
              "      </script>\n",
              "    </div>\n",
              "  </div>\n",
              "  "
            ]
          },
          "metadata": {},
          "execution_count": 4
        }
      ]
    },
    {
      "cell_type": "code",
      "source": [
        "penguins_raw[\"species\"]"
      ],
      "metadata": {
        "colab": {
          "base_uri": "https://localhost:8080/"
        },
        "id": "Dul9UNgMprlB",
        "outputId": "2b3f0c65-06fb-4671-ef4f-a7ae291609ee"
      },
      "execution_count": null,
      "outputs": [
        {
          "output_type": "execute_result",
          "data": {
            "text/plain": [
              "0      Adelie\n",
              "1      Adelie\n",
              "2      Adelie\n",
              "3      Adelie\n",
              "4      Adelie\n",
              "        ...  \n",
              "339    Gentoo\n",
              "340    Gentoo\n",
              "341    Gentoo\n",
              "342    Gentoo\n",
              "343    Gentoo\n",
              "Name: species, Length: 344, dtype: object"
            ]
          },
          "metadata": {},
          "execution_count": 5
        }
      ]
    },
    {
      "cell_type": "code",
      "source": [
        "penguins = penguins_raw.iloc[:,0:4].drop(\"island\", axis=1)\n",
        "penguins"
      ],
      "metadata": {
        "colab": {
          "base_uri": "https://localhost:8080/",
          "height": 424
        },
        "id": "zl0f74kDqj0j",
        "outputId": "dd033a7e-94eb-4788-a942-013040e8d914"
      },
      "execution_count": null,
      "outputs": [
        {
          "output_type": "execute_result",
          "data": {
            "text/plain": [
              "    species  bill_length_mm  bill_depth_mm\n",
              "0    Adelie            39.1           18.7\n",
              "1    Adelie            39.5           17.4\n",
              "2    Adelie            40.3           18.0\n",
              "3    Adelie             NaN            NaN\n",
              "4    Adelie            36.7           19.3\n",
              "..      ...             ...            ...\n",
              "339  Gentoo             NaN            NaN\n",
              "340  Gentoo            46.8           14.3\n",
              "341  Gentoo            50.4           15.7\n",
              "342  Gentoo            45.2           14.8\n",
              "343  Gentoo            49.9           16.1\n",
              "\n",
              "[344 rows x 3 columns]"
            ],
            "text/html": [
              "\n",
              "  <div id=\"df-96ffbebb-44da-46b5-9fc6-f1a3b8af4ed8\">\n",
              "    <div class=\"colab-df-container\">\n",
              "      <div>\n",
              "<style scoped>\n",
              "    .dataframe tbody tr th:only-of-type {\n",
              "        vertical-align: middle;\n",
              "    }\n",
              "\n",
              "    .dataframe tbody tr th {\n",
              "        vertical-align: top;\n",
              "    }\n",
              "\n",
              "    .dataframe thead th {\n",
              "        text-align: right;\n",
              "    }\n",
              "</style>\n",
              "<table border=\"1\" class=\"dataframe\">\n",
              "  <thead>\n",
              "    <tr style=\"text-align: right;\">\n",
              "      <th></th>\n",
              "      <th>species</th>\n",
              "      <th>bill_length_mm</th>\n",
              "      <th>bill_depth_mm</th>\n",
              "    </tr>\n",
              "  </thead>\n",
              "  <tbody>\n",
              "    <tr>\n",
              "      <th>0</th>\n",
              "      <td>Adelie</td>\n",
              "      <td>39.1</td>\n",
              "      <td>18.7</td>\n",
              "    </tr>\n",
              "    <tr>\n",
              "      <th>1</th>\n",
              "      <td>Adelie</td>\n",
              "      <td>39.5</td>\n",
              "      <td>17.4</td>\n",
              "    </tr>\n",
              "    <tr>\n",
              "      <th>2</th>\n",
              "      <td>Adelie</td>\n",
              "      <td>40.3</td>\n",
              "      <td>18.0</td>\n",
              "    </tr>\n",
              "    <tr>\n",
              "      <th>3</th>\n",
              "      <td>Adelie</td>\n",
              "      <td>NaN</td>\n",
              "      <td>NaN</td>\n",
              "    </tr>\n",
              "    <tr>\n",
              "      <th>4</th>\n",
              "      <td>Adelie</td>\n",
              "      <td>36.7</td>\n",
              "      <td>19.3</td>\n",
              "    </tr>\n",
              "    <tr>\n",
              "      <th>...</th>\n",
              "      <td>...</td>\n",
              "      <td>...</td>\n",
              "      <td>...</td>\n",
              "    </tr>\n",
              "    <tr>\n",
              "      <th>339</th>\n",
              "      <td>Gentoo</td>\n",
              "      <td>NaN</td>\n",
              "      <td>NaN</td>\n",
              "    </tr>\n",
              "    <tr>\n",
              "      <th>340</th>\n",
              "      <td>Gentoo</td>\n",
              "      <td>46.8</td>\n",
              "      <td>14.3</td>\n",
              "    </tr>\n",
              "    <tr>\n",
              "      <th>341</th>\n",
              "      <td>Gentoo</td>\n",
              "      <td>50.4</td>\n",
              "      <td>15.7</td>\n",
              "    </tr>\n",
              "    <tr>\n",
              "      <th>342</th>\n",
              "      <td>Gentoo</td>\n",
              "      <td>45.2</td>\n",
              "      <td>14.8</td>\n",
              "    </tr>\n",
              "    <tr>\n",
              "      <th>343</th>\n",
              "      <td>Gentoo</td>\n",
              "      <td>49.9</td>\n",
              "      <td>16.1</td>\n",
              "    </tr>\n",
              "  </tbody>\n",
              "</table>\n",
              "<p>344 rows × 3 columns</p>\n",
              "</div>\n",
              "      <button class=\"colab-df-convert\" onclick=\"convertToInteractive('df-96ffbebb-44da-46b5-9fc6-f1a3b8af4ed8')\"\n",
              "              title=\"Convert this dataframe to an interactive table.\"\n",
              "              style=\"display:none;\">\n",
              "        \n",
              "  <svg xmlns=\"http://www.w3.org/2000/svg\" height=\"24px\"viewBox=\"0 0 24 24\"\n",
              "       width=\"24px\">\n",
              "    <path d=\"M0 0h24v24H0V0z\" fill=\"none\"/>\n",
              "    <path d=\"M18.56 5.44l.94 2.06.94-2.06 2.06-.94-2.06-.94-.94-2.06-.94 2.06-2.06.94zm-11 1L8.5 8.5l.94-2.06 2.06-.94-2.06-.94L8.5 2.5l-.94 2.06-2.06.94zm10 10l.94 2.06.94-2.06 2.06-.94-2.06-.94-.94-2.06-.94 2.06-2.06.94z\"/><path d=\"M17.41 7.96l-1.37-1.37c-.4-.4-.92-.59-1.43-.59-.52 0-1.04.2-1.43.59L10.3 9.45l-7.72 7.72c-.78.78-.78 2.05 0 2.83L4 21.41c.39.39.9.59 1.41.59.51 0 1.02-.2 1.41-.59l7.78-7.78 2.81-2.81c.8-.78.8-2.07 0-2.86zM5.41 20L4 18.59l7.72-7.72 1.47 1.35L5.41 20z\"/>\n",
              "  </svg>\n",
              "      </button>\n",
              "      \n",
              "  <style>\n",
              "    .colab-df-container {\n",
              "      display:flex;\n",
              "      flex-wrap:wrap;\n",
              "      gap: 12px;\n",
              "    }\n",
              "\n",
              "    .colab-df-convert {\n",
              "      background-color: #E8F0FE;\n",
              "      border: none;\n",
              "      border-radius: 50%;\n",
              "      cursor: pointer;\n",
              "      display: none;\n",
              "      fill: #1967D2;\n",
              "      height: 32px;\n",
              "      padding: 0 0 0 0;\n",
              "      width: 32px;\n",
              "    }\n",
              "\n",
              "    .colab-df-convert:hover {\n",
              "      background-color: #E2EBFA;\n",
              "      box-shadow: 0px 1px 2px rgba(60, 64, 67, 0.3), 0px 1px 3px 1px rgba(60, 64, 67, 0.15);\n",
              "      fill: #174EA6;\n",
              "    }\n",
              "\n",
              "    [theme=dark] .colab-df-convert {\n",
              "      background-color: #3B4455;\n",
              "      fill: #D2E3FC;\n",
              "    }\n",
              "\n",
              "    [theme=dark] .colab-df-convert:hover {\n",
              "      background-color: #434B5C;\n",
              "      box-shadow: 0px 1px 3px 1px rgba(0, 0, 0, 0.15);\n",
              "      filter: drop-shadow(0px 1px 2px rgba(0, 0, 0, 0.3));\n",
              "      fill: #FFFFFF;\n",
              "    }\n",
              "  </style>\n",
              "\n",
              "      <script>\n",
              "        const buttonEl =\n",
              "          document.querySelector('#df-96ffbebb-44da-46b5-9fc6-f1a3b8af4ed8 button.colab-df-convert');\n",
              "        buttonEl.style.display =\n",
              "          google.colab.kernel.accessAllowed ? 'block' : 'none';\n",
              "\n",
              "        async function convertToInteractive(key) {\n",
              "          const element = document.querySelector('#df-96ffbebb-44da-46b5-9fc6-f1a3b8af4ed8');\n",
              "          const dataTable =\n",
              "            await google.colab.kernel.invokeFunction('convertToInteractive',\n",
              "                                                     [key], {});\n",
              "          if (!dataTable) return;\n",
              "\n",
              "          const docLinkHtml = 'Like what you see? Visit the ' +\n",
              "            '<a target=\"_blank\" href=https://colab.research.google.com/notebooks/data_table.ipynb>data table notebook</a>'\n",
              "            + ' to learn more about interactive tables.';\n",
              "          element.innerHTML = '';\n",
              "          dataTable['output_type'] = 'display_data';\n",
              "          await google.colab.output.renderOutput(dataTable, element);\n",
              "          const docLink = document.createElement('div');\n",
              "          docLink.innerHTML = docLinkHtml;\n",
              "          element.appendChild(docLink);\n",
              "        }\n",
              "      </script>\n",
              "    </div>\n",
              "  </div>\n",
              "  "
            ]
          },
          "metadata": {},
          "execution_count": 6
        }
      ]
    },
    {
      "cell_type": "code",
      "source": [
        "penguins = penguins.dropna()"
      ],
      "metadata": {
        "id": "GCazDpo1q2CQ"
      },
      "execution_count": null,
      "outputs": []
    },
    {
      "cell_type": "code",
      "source": [
        "penguins"
      ],
      "metadata": {
        "colab": {
          "base_uri": "https://localhost:8080/",
          "height": 424
        },
        "id": "x1Fbr6hereSW",
        "outputId": "f31bcfac-96bb-4b68-a879-7c03ea0df646"
      },
      "execution_count": null,
      "outputs": [
        {
          "output_type": "execute_result",
          "data": {
            "text/plain": [
              "    species  bill_length_mm  bill_depth_mm\n",
              "0    Adelie            39.1           18.7\n",
              "1    Adelie            39.5           17.4\n",
              "2    Adelie            40.3           18.0\n",
              "4    Adelie            36.7           19.3\n",
              "5    Adelie            39.3           20.6\n",
              "..      ...             ...            ...\n",
              "338  Gentoo            47.2           13.7\n",
              "340  Gentoo            46.8           14.3\n",
              "341  Gentoo            50.4           15.7\n",
              "342  Gentoo            45.2           14.8\n",
              "343  Gentoo            49.9           16.1\n",
              "\n",
              "[342 rows x 3 columns]"
            ],
            "text/html": [
              "\n",
              "  <div id=\"df-3f06ef67-c75b-4cc6-8c64-38f06f20eb49\">\n",
              "    <div class=\"colab-df-container\">\n",
              "      <div>\n",
              "<style scoped>\n",
              "    .dataframe tbody tr th:only-of-type {\n",
              "        vertical-align: middle;\n",
              "    }\n",
              "\n",
              "    .dataframe tbody tr th {\n",
              "        vertical-align: top;\n",
              "    }\n",
              "\n",
              "    .dataframe thead th {\n",
              "        text-align: right;\n",
              "    }\n",
              "</style>\n",
              "<table border=\"1\" class=\"dataframe\">\n",
              "  <thead>\n",
              "    <tr style=\"text-align: right;\">\n",
              "      <th></th>\n",
              "      <th>species</th>\n",
              "      <th>bill_length_mm</th>\n",
              "      <th>bill_depth_mm</th>\n",
              "    </tr>\n",
              "  </thead>\n",
              "  <tbody>\n",
              "    <tr>\n",
              "      <th>0</th>\n",
              "      <td>Adelie</td>\n",
              "      <td>39.1</td>\n",
              "      <td>18.7</td>\n",
              "    </tr>\n",
              "    <tr>\n",
              "      <th>1</th>\n",
              "      <td>Adelie</td>\n",
              "      <td>39.5</td>\n",
              "      <td>17.4</td>\n",
              "    </tr>\n",
              "    <tr>\n",
              "      <th>2</th>\n",
              "      <td>Adelie</td>\n",
              "      <td>40.3</td>\n",
              "      <td>18.0</td>\n",
              "    </tr>\n",
              "    <tr>\n",
              "      <th>4</th>\n",
              "      <td>Adelie</td>\n",
              "      <td>36.7</td>\n",
              "      <td>19.3</td>\n",
              "    </tr>\n",
              "    <tr>\n",
              "      <th>5</th>\n",
              "      <td>Adelie</td>\n",
              "      <td>39.3</td>\n",
              "      <td>20.6</td>\n",
              "    </tr>\n",
              "    <tr>\n",
              "      <th>...</th>\n",
              "      <td>...</td>\n",
              "      <td>...</td>\n",
              "      <td>...</td>\n",
              "    </tr>\n",
              "    <tr>\n",
              "      <th>338</th>\n",
              "      <td>Gentoo</td>\n",
              "      <td>47.2</td>\n",
              "      <td>13.7</td>\n",
              "    </tr>\n",
              "    <tr>\n",
              "      <th>340</th>\n",
              "      <td>Gentoo</td>\n",
              "      <td>46.8</td>\n",
              "      <td>14.3</td>\n",
              "    </tr>\n",
              "    <tr>\n",
              "      <th>341</th>\n",
              "      <td>Gentoo</td>\n",
              "      <td>50.4</td>\n",
              "      <td>15.7</td>\n",
              "    </tr>\n",
              "    <tr>\n",
              "      <th>342</th>\n",
              "      <td>Gentoo</td>\n",
              "      <td>45.2</td>\n",
              "      <td>14.8</td>\n",
              "    </tr>\n",
              "    <tr>\n",
              "      <th>343</th>\n",
              "      <td>Gentoo</td>\n",
              "      <td>49.9</td>\n",
              "      <td>16.1</td>\n",
              "    </tr>\n",
              "  </tbody>\n",
              "</table>\n",
              "<p>342 rows × 3 columns</p>\n",
              "</div>\n",
              "      <button class=\"colab-df-convert\" onclick=\"convertToInteractive('df-3f06ef67-c75b-4cc6-8c64-38f06f20eb49')\"\n",
              "              title=\"Convert this dataframe to an interactive table.\"\n",
              "              style=\"display:none;\">\n",
              "        \n",
              "  <svg xmlns=\"http://www.w3.org/2000/svg\" height=\"24px\"viewBox=\"0 0 24 24\"\n",
              "       width=\"24px\">\n",
              "    <path d=\"M0 0h24v24H0V0z\" fill=\"none\"/>\n",
              "    <path d=\"M18.56 5.44l.94 2.06.94-2.06 2.06-.94-2.06-.94-.94-2.06-.94 2.06-2.06.94zm-11 1L8.5 8.5l.94-2.06 2.06-.94-2.06-.94L8.5 2.5l-.94 2.06-2.06.94zm10 10l.94 2.06.94-2.06 2.06-.94-2.06-.94-.94-2.06-.94 2.06-2.06.94z\"/><path d=\"M17.41 7.96l-1.37-1.37c-.4-.4-.92-.59-1.43-.59-.52 0-1.04.2-1.43.59L10.3 9.45l-7.72 7.72c-.78.78-.78 2.05 0 2.83L4 21.41c.39.39.9.59 1.41.59.51 0 1.02-.2 1.41-.59l7.78-7.78 2.81-2.81c.8-.78.8-2.07 0-2.86zM5.41 20L4 18.59l7.72-7.72 1.47 1.35L5.41 20z\"/>\n",
              "  </svg>\n",
              "      </button>\n",
              "      \n",
              "  <style>\n",
              "    .colab-df-container {\n",
              "      display:flex;\n",
              "      flex-wrap:wrap;\n",
              "      gap: 12px;\n",
              "    }\n",
              "\n",
              "    .colab-df-convert {\n",
              "      background-color: #E8F0FE;\n",
              "      border: none;\n",
              "      border-radius: 50%;\n",
              "      cursor: pointer;\n",
              "      display: none;\n",
              "      fill: #1967D2;\n",
              "      height: 32px;\n",
              "      padding: 0 0 0 0;\n",
              "      width: 32px;\n",
              "    }\n",
              "\n",
              "    .colab-df-convert:hover {\n",
              "      background-color: #E2EBFA;\n",
              "      box-shadow: 0px 1px 2px rgba(60, 64, 67, 0.3), 0px 1px 3px 1px rgba(60, 64, 67, 0.15);\n",
              "      fill: #174EA6;\n",
              "    }\n",
              "\n",
              "    [theme=dark] .colab-df-convert {\n",
              "      background-color: #3B4455;\n",
              "      fill: #D2E3FC;\n",
              "    }\n",
              "\n",
              "    [theme=dark] .colab-df-convert:hover {\n",
              "      background-color: #434B5C;\n",
              "      box-shadow: 0px 1px 3px 1px rgba(0, 0, 0, 0.15);\n",
              "      filter: drop-shadow(0px 1px 2px rgba(0, 0, 0, 0.3));\n",
              "      fill: #FFFFFF;\n",
              "    }\n",
              "  </style>\n",
              "\n",
              "      <script>\n",
              "        const buttonEl =\n",
              "          document.querySelector('#df-3f06ef67-c75b-4cc6-8c64-38f06f20eb49 button.colab-df-convert');\n",
              "        buttonEl.style.display =\n",
              "          google.colab.kernel.accessAllowed ? 'block' : 'none';\n",
              "\n",
              "        async function convertToInteractive(key) {\n",
              "          const element = document.querySelector('#df-3f06ef67-c75b-4cc6-8c64-38f06f20eb49');\n",
              "          const dataTable =\n",
              "            await google.colab.kernel.invokeFunction('convertToInteractive',\n",
              "                                                     [key], {});\n",
              "          if (!dataTable) return;\n",
              "\n",
              "          const docLinkHtml = 'Like what you see? Visit the ' +\n",
              "            '<a target=\"_blank\" href=https://colab.research.google.com/notebooks/data_table.ipynb>data table notebook</a>'\n",
              "            + ' to learn more about interactive tables.';\n",
              "          element.innerHTML = '';\n",
              "          dataTable['output_type'] = 'display_data';\n",
              "          await google.colab.output.renderOutput(dataTable, element);\n",
              "          const docLink = document.createElement('div');\n",
              "          docLink.innerHTML = docLinkHtml;\n",
              "          element.appendChild(docLink);\n",
              "        }\n",
              "      </script>\n",
              "    </div>\n",
              "  </div>\n",
              "  "
            ]
          },
          "metadata": {},
          "execution_count": 8
        }
      ]
    },
    {
      "cell_type": "code",
      "source": [
        "penguins[\"species\"] = penguins.species.astype(\"category\")"
      ],
      "metadata": {
        "colab": {
          "base_uri": "https://localhost:8080/"
        },
        "id": "P80ERjZNudHe",
        "outputId": "5ed74da8-7d83-422a-83c8-7368fe8dfe05"
      },
      "execution_count": null,
      "outputs": [
        {
          "output_type": "stream",
          "name": "stderr",
          "text": [
            "/usr/local/lib/python3.7/dist-packages/ipykernel_launcher.py:1: SettingWithCopyWarning: \n",
            "A value is trying to be set on a copy of a slice from a DataFrame.\n",
            "Try using .loc[row_indexer,col_indexer] = value instead\n",
            "\n",
            "See the caveats in the documentation: https://pandas.pydata.org/pandas-docs/stable/user_guide/indexing.html#returning-a-view-versus-a-copy\n",
            "  \"\"\"Entry point for launching an IPython kernel.\n"
          ]
        }
      ]
    },
    {
      "cell_type": "code",
      "source": [
        "penguins.dtypes"
      ],
      "metadata": {
        "colab": {
          "base_uri": "https://localhost:8080/"
        },
        "id": "7NIPBcV5uPBW",
        "outputId": "e0f2fdf6-8e49-46e1-b965-7cc6cbf41d25"
      },
      "execution_count": null,
      "outputs": [
        {
          "output_type": "execute_result",
          "data": {
            "text/plain": [
              "species           category\n",
              "bill_length_mm     float64\n",
              "bill_depth_mm      float64\n",
              "dtype: object"
            ]
          },
          "metadata": {},
          "execution_count": 10
        }
      ]
    },
    {
      "cell_type": "code",
      "source": [
        "penguins.plot.scatter(\"bill_length_mm\", \"bill_depth_mm\");"
      ],
      "metadata": {
        "colab": {
          "base_uri": "https://localhost:8080/",
          "height": 280
        },
        "id": "CqiR8Xs8vbHR",
        "outputId": "aa6f5beb-e5bc-46df-cd2b-58d8ff0d3961"
      },
      "execution_count": null,
      "outputs": [
        {
          "output_type": "display_data",
          "data": {
            "text/plain": [
              "<Figure size 432x288 with 1 Axes>"
            ],
            "image/png": "[encoded data removed]"
          },
          "metadata": {
            "needs_background": "light"
          }
        }
      ]
    },
    {
      "cell_type": "code",
      "source": [
        "penguins.plot.scatter(\"bill_length_mm\", \"bill_depth_mm\", s=150, c=\"species\", cmap=\"viridis\", figsize=(24,12));"
      ],
      "metadata": {
        "colab": {
          "base_uri": "https://localhost:8080/",
          "height": 687
        },
        "id": "3jbKXCCutDEv",
        "outputId": "b778bb26-1f0e-4e33-a9e9-bd4d5aee744b"
      },
      "execution_count": null,
      "outputs": [
        {
          "output_type": "display_data",
          "data": {
            "text/plain": [
              "<Figure size 1728x864 with 2 Axes>"
            ],
            "image/png": "[encoded data removed]"
          },
          "metadata": {
            "needs_background": "light"
          }
        }
      ]
    },
    {
      "cell_type": "markdown",
      "source": [
        "### Eigenes Modell"
      ],
      "metadata": {
        "id": "WpDHmVcs5Dtn"
      }
    },
    {
      "cell_type": "code",
      "source": [
        "for index, row in penguins.iterrows():\n",
        "  # nutzt if und else Abfragen um mittels bill_length_mm und bill_depth_mm eine Vorhersage für die species zu machen\n",
        "  prediction = \"Adelie\"\n",
        "  if row[\"bill_length_mm\"] > 40:\n",
        "    if row[\"bill_depth_mm\"] > 16:\n",
        "      prediction = \"Chinstrap\"\n",
        "    else:\n",
        "      prediction = \"Gentoo\"\n",
        "  print(row[\"species\"], prediction)"
      ],
      "metadata": {
        "colab": {
          "base_uri": "https://localhost:8080/"
        },
        "id": "xHg8kWZStlsI",
        "outputId": "8d6f9ba9-399f-4599-99d8-4f800e80e7d6"
      },
      "execution_count": null,
      "outputs": [
        {
          "output_type": "stream",
          "name": "stdout",
          "text": [
            "Adelie Adelie\n",
            "Adelie Adelie\n",
            "Adelie Chinstrap\n",
            "Adelie Adelie\n",
            "Adelie Adelie\n",
            "Adelie Adelie\n",
            "Adelie Adelie\n",
            "Adelie Adelie\n",
            "Adelie Chinstrap\n",
            "Adelie Adelie\n",
            "Adelie Adelie\n",
            "Adelie Chinstrap\n",
            "Adelie Adelie\n",
            "Adelie Adelie\n",
            "Adelie Adelie\n",
            "Adelie Adelie\n",
            "Adelie Chinstrap\n",
            "Adelie Adelie\n",
            "Adelie Chinstrap\n",
            "Adelie Adelie\n",
            "Adelie Adelie\n",
            "Adelie Adelie\n",
            "Adelie Adelie\n",
            "Adelie Adelie\n",
            "Adelie Adelie\n",
            "Adelie Chinstrap\n",
            "Adelie Chinstrap\n",
            "Adelie Adelie\n",
            "Adelie Chinstrap\n",
            "Adelie Adelie\n",
            "Adelie Adelie\n",
            "Adelie Adelie\n",
            "Adelie Chinstrap\n",
            "Adelie Adelie\n",
            "Adelie Adelie\n",
            "Adelie Adelie\n",
            "Adelie Chinstrap\n",
            "Adelie Adelie\n",
            "Adelie Adelie\n",
            "Adelie Adelie\n",
            "Adelie Chinstrap\n",
            "Adelie Adelie\n",
            "Adelie Chinstrap\n",
            "Adelie Adelie\n",
            "Adelie Adelie\n",
            "Adelie Chinstrap\n",
            "Adelie Adelie\n",
            "Adelie Adelie\n",
            "Adelie Chinstrap\n",
            "Adelie Adelie\n",
            "Adelie Chinstrap\n",
            "Adelie Adelie\n",
            "Adelie Chinstrap\n",
            "Adelie Adelie\n",
            "Adelie Chinstrap\n",
            "Adelie Adelie\n",
            "Adelie Chinstrap\n",
            "Adelie Adelie\n",
            "Adelie Adelie\n",
            "Adelie Adelie\n",
            "Adelie Chinstrap\n",
            "Adelie Adelie\n",
            "Adelie Chinstrap\n",
            "Adelie Adelie\n",
            "Adelie Chinstrap\n",
            "Adelie Adelie\n",
            "Adelie Chinstrap\n",
            "Adelie Adelie\n",
            "Adelie Chinstrap\n",
            "Adelie Adelie\n",
            "Adelie Adelie\n",
            "Adelie Adelie\n",
            "Adelie Chinstrap\n",
            "Adelie Adelie\n",
            "Adelie Chinstrap\n",
            "Adelie Chinstrap\n",
            "Adelie Adelie\n",
            "Adelie Adelie\n",
            "Adelie Chinstrap\n",
            "Adelie Adelie\n",
            "Adelie Chinstrap\n",
            "Adelie Adelie\n",
            "Adelie Adelie\n",
            "Adelie Adelie\n",
            "Adelie Chinstrap\n",
            "Adelie Adelie\n",
            "Adelie Adelie\n",
            "Adelie Adelie\n",
            "Adelie Adelie\n",
            "Adelie Adelie\n",
            "Adelie Chinstrap\n",
            "Adelie Adelie\n",
            "Adelie Adelie\n",
            "Adelie Adelie\n",
            "Adelie Chinstrap\n",
            "Adelie Adelie\n",
            "Adelie Chinstrap\n",
            "Adelie Adelie\n",
            "Adelie Chinstrap\n",
            "Adelie Adelie\n",
            "Adelie Chinstrap\n",
            "Adelie Adelie\n",
            "Adelie Adelie\n",
            "Adelie Adelie\n",
            "Adelie Adelie\n",
            "Adelie Adelie\n",
            "Adelie Adelie\n",
            "Adelie Adelie\n",
            "Adelie Chinstrap\n",
            "Adelie Adelie\n",
            "Adelie Chinstrap\n",
            "Adelie Adelie\n",
            "Adelie Chinstrap\n",
            "Adelie Adelie\n",
            "Adelie Chinstrap\n",
            "Adelie Adelie\n",
            "Adelie Adelie\n",
            "Adelie Adelie\n",
            "Adelie Chinstrap\n",
            "Adelie Adelie\n",
            "Adelie Adelie\n",
            "Adelie Chinstrap\n",
            "Adelie Chinstrap\n",
            "Adelie Adelie\n",
            "Adelie Chinstrap\n",
            "Adelie Adelie\n",
            "Adelie Chinstrap\n",
            "Adelie Adelie\n",
            "Adelie Chinstrap\n",
            "Adelie Adelie\n",
            "Adelie Chinstrap\n",
            "Adelie Adelie\n",
            "Adelie Adelie\n",
            "Adelie Adelie\n",
            "Adelie Chinstrap\n",
            "Adelie Adelie\n",
            "Adelie Chinstrap\n",
            "Adelie Adelie\n",
            "Adelie Adelie\n",
            "Adelie Chinstrap\n",
            "Adelie Chinstrap\n",
            "Adelie Adelie\n",
            "Adelie Chinstrap\n",
            "Adelie Adelie\n",
            "Adelie Adelie\n",
            "Adelie Adelie\n",
            "Adelie Adelie\n",
            "Adelie Adelie\n",
            "Adelie Adelie\n",
            "Adelie Adelie\n",
            "Adelie Chinstrap\n",
            "Chinstrap Chinstrap\n",
            "Chinstrap Chinstrap\n",
            "Chinstrap Chinstrap\n",
            "Chinstrap Chinstrap\n",
            "Chinstrap Chinstrap\n",
            "Chinstrap Chinstrap\n",
            "Chinstrap Chinstrap\n",
            "Chinstrap Chinstrap\n",
            "Chinstrap Chinstrap\n",
            "Chinstrap Chinstrap\n",
            "Chinstrap Chinstrap\n",
            "Chinstrap Chinstrap\n",
            "Chinstrap Chinstrap\n",
            "Chinstrap Chinstrap\n",
            "Chinstrap Chinstrap\n",
            "Chinstrap Chinstrap\n",
            "Chinstrap Chinstrap\n",
            "Chinstrap Chinstrap\n",
            "Chinstrap Chinstrap\n",
            "Chinstrap Chinstrap\n",
            "Chinstrap Chinstrap\n",
            "Chinstrap Chinstrap\n",
            "Chinstrap Chinstrap\n",
            "Chinstrap Chinstrap\n",
            "Chinstrap Chinstrap\n",
            "Chinstrap Chinstrap\n",
            "Chinstrap Chinstrap\n",
            "Chinstrap Chinstrap\n",
            "Chinstrap Chinstrap\n",
            "Chinstrap Chinstrap\n",
            "Chinstrap Chinstrap\n",
            "Chinstrap Chinstrap\n",
            "Chinstrap Chinstrap\n",
            "Chinstrap Chinstrap\n",
            "Chinstrap Chinstrap\n",
            "Chinstrap Chinstrap\n",
            "Chinstrap Chinstrap\n",
            "Chinstrap Chinstrap\n",
            "Chinstrap Chinstrap\n",
            "Chinstrap Chinstrap\n",
            "Chinstrap Chinstrap\n",
            "Chinstrap Chinstrap\n",
            "Chinstrap Chinstrap\n",
            "Chinstrap Chinstrap\n",
            "Chinstrap Chinstrap\n",
            "Chinstrap Chinstrap\n",
            "Chinstrap Chinstrap\n",
            "Chinstrap Chinstrap\n",
            "Chinstrap Chinstrap\n",
            "Chinstrap Chinstrap\n",
            "Chinstrap Chinstrap\n",
            "Chinstrap Chinstrap\n",
            "Chinstrap Chinstrap\n",
            "Chinstrap Chinstrap\n",
            "Chinstrap Chinstrap\n",
            "Chinstrap Chinstrap\n",
            "Chinstrap Chinstrap\n",
            "Chinstrap Chinstrap\n",
            "Chinstrap Chinstrap\n",
            "Chinstrap Chinstrap\n",
            "Chinstrap Chinstrap\n",
            "Chinstrap Chinstrap\n",
            "Chinstrap Chinstrap\n",
            "Chinstrap Chinstrap\n",
            "Chinstrap Chinstrap\n",
            "Chinstrap Chinstrap\n",
            "Chinstrap Chinstrap\n",
            "Chinstrap Chinstrap\n",
            "Gentoo Gentoo\n",
            "Gentoo Chinstrap\n",
            "Gentoo Gentoo\n",
            "Gentoo Gentoo\n",
            "Gentoo Gentoo\n",
            "Gentoo Gentoo\n",
            "Gentoo Gentoo\n",
            "Gentoo Gentoo\n",
            "Gentoo Gentoo\n",
            "Gentoo Gentoo\n",
            "Gentoo Gentoo\n",
            "Gentoo Chinstrap\n",
            "Gentoo Gentoo\n",
            "Gentoo Gentoo\n",
            "Gentoo Gentoo\n",
            "Gentoo Gentoo\n",
            "Gentoo Gentoo\n",
            "Gentoo Gentoo\n",
            "Gentoo Gentoo\n",
            "Gentoo Gentoo\n",
            "Gentoo Gentoo\n",
            "Gentoo Gentoo\n",
            "Gentoo Gentoo\n",
            "Gentoo Gentoo\n",
            "Gentoo Gentoo\n",
            "Gentoo Gentoo\n",
            "Gentoo Gentoo\n",
            "Gentoo Gentoo\n",
            "Gentoo Gentoo\n",
            "Gentoo Gentoo\n",
            "Gentoo Gentoo\n",
            "Gentoo Gentoo\n",
            "Gentoo Gentoo\n",
            "Gentoo Chinstrap\n",
            "Gentoo Gentoo\n",
            "Gentoo Chinstrap\n",
            "Gentoo Gentoo\n",
            "Gentoo Chinstrap\n",
            "Gentoo Gentoo\n",
            "Gentoo Gentoo\n",
            "Gentoo Gentoo\n",
            "Gentoo Gentoo\n",
            "Gentoo Gentoo\n",
            "Gentoo Gentoo\n",
            "Gentoo Gentoo\n",
            "Gentoo Gentoo\n",
            "Gentoo Gentoo\n",
            "Gentoo Gentoo\n",
            "Gentoo Gentoo\n",
            "Gentoo Gentoo\n",
            "Gentoo Gentoo\n",
            "Gentoo Gentoo\n",
            "Gentoo Gentoo\n",
            "Gentoo Gentoo\n",
            "Gentoo Gentoo\n",
            "Gentoo Gentoo\n",
            "Gentoo Gentoo\n",
            "Gentoo Gentoo\n",
            "Gentoo Gentoo\n",
            "Gentoo Gentoo\n",
            "Gentoo Gentoo\n",
            "Gentoo Gentoo\n",
            "Gentoo Gentoo\n",
            "Gentoo Gentoo\n",
            "Gentoo Gentoo\n",
            "Gentoo Chinstrap\n",
            "Gentoo Gentoo\n",
            "Gentoo Chinstrap\n",
            "Gentoo Gentoo\n",
            "Gentoo Gentoo\n",
            "Gentoo Gentoo\n",
            "Gentoo Gentoo\n",
            "Gentoo Gentoo\n",
            "Gentoo Gentoo\n",
            "Gentoo Gentoo\n",
            "Gentoo Gentoo\n",
            "Gentoo Gentoo\n",
            "Gentoo Chinstrap\n",
            "Gentoo Gentoo\n",
            "Gentoo Chinstrap\n",
            "Gentoo Gentoo\n",
            "Gentoo Gentoo\n",
            "Gentoo Gentoo\n",
            "Gentoo Gentoo\n",
            "Gentoo Gentoo\n",
            "Gentoo Chinstrap\n",
            "Gentoo Gentoo\n",
            "Gentoo Gentoo\n",
            "Gentoo Gentoo\n",
            "Gentoo Chinstrap\n",
            "Gentoo Gentoo\n",
            "Gentoo Chinstrap\n",
            "Gentoo Gentoo\n",
            "Gentoo Chinstrap\n",
            "Gentoo Gentoo\n",
            "Gentoo Gentoo\n",
            "Gentoo Gentoo\n",
            "Gentoo Gentoo\n",
            "Gentoo Gentoo\n",
            "Gentoo Chinstrap\n",
            "Gentoo Gentoo\n",
            "Gentoo Chinstrap\n",
            "Gentoo Gentoo\n",
            "Gentoo Gentoo\n",
            "Gentoo Gentoo\n",
            "Gentoo Chinstrap\n",
            "Gentoo Gentoo\n",
            "Gentoo Gentoo\n",
            "Gentoo Gentoo\n",
            "Gentoo Gentoo\n",
            "Gentoo Gentoo\n",
            "Gentoo Gentoo\n",
            "Gentoo Gentoo\n",
            "Gentoo Chinstrap\n",
            "Gentoo Gentoo\n",
            "Gentoo Gentoo\n",
            "Gentoo Gentoo\n",
            "Gentoo Chinstrap\n",
            "Gentoo Gentoo\n",
            "Gentoo Gentoo\n",
            "Gentoo Gentoo\n",
            "Gentoo Gentoo\n",
            "Gentoo Chinstrap\n"
          ]
        }
      ]
    },
    {
      "cell_type": "code",
      "source": [
        "correct = 0\n",
        "total = 0\n",
        "\n",
        "for index, row in penguins.iterrows():\n",
        "  # nutzt if und else Abfragen um mittels bill_length_mm und bill_depth_mm eine Vorhersage für die species zu machen\n",
        "  prediction = \"Adelie\"\n",
        "  if row[\"bill_length_mm\"] > 43:\n",
        "    if row[\"bill_depth_mm\"] > 17:\n",
        "      prediction = \"Chinstrap\"\n",
        "    else:\n",
        "      prediction = \"Gentoo\"\n",
        "  total += 1\n",
        "  if row[\"species\"] == prediction:\n",
        "    correct += 1\n",
        "\n",
        "accuracy = correct/total\n",
        "print(accuracy)"
      ],
      "metadata": {
        "colab": {
          "base_uri": "https://localhost:8080/"
        },
        "id": "wWibEjR7xUyx",
        "outputId": "964712d6-6d53-40ae-9b89-3b5bfd8cbde8"
      },
      "execution_count": null,
      "outputs": [
        {
          "output_type": "stream",
          "name": "stdout",
          "text": [
            "0.9122807017543859\n"
          ]
        }
      ]
    },
    {
      "cell_type": "markdown",
      "source": [
        "### Scikit-Learn"
      ],
      "metadata": {
        "id": "G_ZprY1k5Jt5"
      }
    },
    {
      "cell_type": "code",
      "source": [
        "import sklearn.tree"
      ],
      "metadata": {
        "id": "SBPj-FV34UzI"
      },
      "execution_count": null,
      "outputs": []
    },
    {
      "cell_type": "code",
      "source": [
        "X = penguins.iloc[:,1:3]\n",
        "y = penguins.species"
      ],
      "metadata": {
        "id": "RLZXXVBQ5dDY"
      },
      "execution_count": null,
      "outputs": []
    },
    {
      "cell_type": "code",
      "source": [
        "# Initialisiere Entscheidungsbaum\n",
        "tree = sklearn.tree.DecisionTreeClassifier()\n",
        "# trainiere den Baum mit unseren Daten\n",
        "tree.fit(X, y)\n",
        "tree"
      ],
      "metadata": {
        "colab": {
          "base_uri": "https://localhost:8080/"
        },
        "id": "8ff-owKU5nIB",
        "outputId": "60fb8fef-a75f-4b83-b70c-f07bde489e91"
      },
      "execution_count": null,
      "outputs": [
        {
          "output_type": "execute_result",
          "data": {
            "text/plain": [
              "DecisionTreeClassifier()"
            ]
          },
          "metadata": {},
          "execution_count": 59
        }
      ]
    },
    {
      "cell_type": "code",
      "source": [
        "tree.predict(X)"
      ],
      "metadata": {
        "colab": {
          "base_uri": "https://localhost:8080/"
        },
        "id": "5JAYbOey6EJb",
        "outputId": "c5682cd3-bffc-43ad-bb4a-cdccf58c7ba4"
      },
      "execution_count": null,
      "outputs": [
        {
          "output_type": "execute_result",
          "data": {
            "text/plain": [
              "array(['Adelie', 'Adelie', 'Adelie', 'Adelie', 'Adelie', 'Adelie',\n",
              "       'Adelie', 'Adelie', 'Adelie', 'Adelie', 'Adelie', 'Adelie',\n",
              "       'Adelie', 'Adelie', 'Adelie', 'Adelie', 'Adelie', 'Adelie',\n",
              "       'Adelie', 'Adelie', 'Adelie', 'Adelie', 'Adelie', 'Adelie',\n",
              "       'Adelie', 'Adelie', 'Adelie', 'Adelie', 'Adelie', 'Adelie',\n",
              "       'Adelie', 'Adelie', 'Adelie', 'Adelie', 'Adelie', 'Adelie',\n",
              "       'Adelie', 'Adelie', 'Adelie', 'Adelie', 'Adelie', 'Adelie',\n",
              "       'Adelie', 'Adelie', 'Adelie', 'Adelie', 'Adelie', 'Adelie',\n",
              "       'Adelie', 'Adelie', 'Adelie', 'Adelie', 'Adelie', 'Adelie',\n",
              "       'Adelie', 'Adelie', 'Adelie', 'Adelie', 'Adelie', 'Adelie',\n",
              "       'Adelie', 'Adelie', 'Adelie', 'Adelie', 'Adelie', 'Adelie',\n",
              "       'Adelie', 'Adelie', 'Adelie', 'Adelie', 'Adelie', 'Adelie',\n",
              "       'Adelie', 'Adelie', 'Adelie', 'Adelie', 'Adelie', 'Adelie',\n",
              "       'Adelie', 'Adelie', 'Adelie', 'Adelie', 'Adelie', 'Adelie',\n",
              "       'Adelie', 'Adelie', 'Adelie', 'Adelie', 'Adelie', 'Adelie',\n",
              "       'Adelie', 'Adelie', 'Adelie', 'Adelie', 'Adelie', 'Adelie',\n",
              "       'Adelie', 'Adelie', 'Adelie', 'Adelie', 'Adelie', 'Adelie',\n",
              "       'Adelie', 'Adelie', 'Adelie', 'Adelie', 'Adelie', 'Adelie',\n",
              "       'Adelie', 'Adelie', 'Adelie', 'Adelie', 'Adelie', 'Adelie',\n",
              "       'Adelie', 'Adelie', 'Adelie', 'Adelie', 'Adelie', 'Adelie',\n",
              "       'Adelie', 'Adelie', 'Adelie', 'Adelie', 'Adelie', 'Adelie',\n",
              "       'Adelie', 'Adelie', 'Adelie', 'Adelie', 'Adelie', 'Adelie',\n",
              "       'Adelie', 'Adelie', 'Adelie', 'Adelie', 'Adelie', 'Adelie',\n",
              "       'Adelie', 'Adelie', 'Adelie', 'Adelie', 'Adelie', 'Adelie',\n",
              "       'Adelie', 'Adelie', 'Adelie', 'Adelie', 'Adelie', 'Adelie',\n",
              "       'Adelie', 'Chinstrap', 'Chinstrap', 'Chinstrap', 'Chinstrap',\n",
              "       'Chinstrap', 'Chinstrap', 'Chinstrap', 'Chinstrap', 'Chinstrap',\n",
              "       'Chinstrap', 'Chinstrap', 'Chinstrap', 'Chinstrap', 'Chinstrap',\n",
              "       'Chinstrap', 'Chinstrap', 'Chinstrap', 'Chinstrap', 'Chinstrap',\n",
              "       'Chinstrap', 'Chinstrap', 'Chinstrap', 'Chinstrap', 'Chinstrap',\n",
              "       'Chinstrap', 'Chinstrap', 'Chinstrap', 'Chinstrap', 'Chinstrap',\n",
              "       'Chinstrap', 'Chinstrap', 'Chinstrap', 'Chinstrap', 'Chinstrap',\n",
              "       'Chinstrap', 'Chinstrap', 'Chinstrap', 'Chinstrap', 'Chinstrap',\n",
              "       'Chinstrap', 'Chinstrap', 'Chinstrap', 'Chinstrap', 'Chinstrap',\n",
              "       'Chinstrap', 'Chinstrap', 'Chinstrap', 'Chinstrap', 'Chinstrap',\n",
              "       'Chinstrap', 'Chinstrap', 'Chinstrap', 'Chinstrap', 'Chinstrap',\n",
              "       'Chinstrap', 'Chinstrap', 'Chinstrap', 'Chinstrap', 'Chinstrap',\n",
              "       'Chinstrap', 'Chinstrap', 'Chinstrap', 'Chinstrap', 'Chinstrap',\n",
              "       'Chinstrap', 'Chinstrap', 'Chinstrap', 'Chinstrap', 'Gentoo',\n",
              "       'Gentoo', 'Gentoo', 'Gentoo', 'Gentoo', 'Gentoo', 'Gentoo',\n",
              "       'Gentoo', 'Gentoo', 'Gentoo', 'Gentoo', 'Gentoo', 'Gentoo',\n",
              "       'Gentoo', 'Gentoo', 'Gentoo', 'Gentoo', 'Gentoo', 'Gentoo',\n",
              "       'Gentoo', 'Gentoo', 'Gentoo', 'Gentoo', 'Gentoo', 'Gentoo',\n",
              "       'Gentoo', 'Gentoo', 'Gentoo', 'Gentoo', 'Gentoo', 'Gentoo',\n",
              "       'Gentoo', 'Gentoo', 'Gentoo', 'Gentoo', 'Gentoo', 'Gentoo',\n",
              "       'Gentoo', 'Gentoo', 'Gentoo', 'Gentoo', 'Gentoo', 'Gentoo',\n",
              "       'Gentoo', 'Gentoo', 'Gentoo', 'Gentoo', 'Gentoo', 'Gentoo',\n",
              "       'Gentoo', 'Gentoo', 'Gentoo', 'Gentoo', 'Gentoo', 'Gentoo',\n",
              "       'Gentoo', 'Gentoo', 'Gentoo', 'Gentoo', 'Gentoo', 'Gentoo',\n",
              "       'Gentoo', 'Gentoo', 'Gentoo', 'Gentoo', 'Gentoo', 'Gentoo',\n",
              "       'Gentoo', 'Gentoo', 'Gentoo', 'Gentoo', 'Gentoo', 'Gentoo',\n",
              "       'Gentoo', 'Gentoo', 'Gentoo', 'Gentoo', 'Gentoo', 'Gentoo',\n",
              "       'Gentoo', 'Gentoo', 'Gentoo', 'Gentoo', 'Gentoo', 'Gentoo',\n",
              "       'Gentoo', 'Gentoo', 'Gentoo', 'Gentoo', 'Gentoo', 'Gentoo',\n",
              "       'Gentoo', 'Gentoo', 'Gentoo', 'Gentoo', 'Gentoo', 'Gentoo',\n",
              "       'Gentoo', 'Gentoo', 'Gentoo', 'Gentoo', 'Gentoo', 'Gentoo',\n",
              "       'Gentoo', 'Gentoo', 'Gentoo', 'Gentoo', 'Gentoo', 'Gentoo',\n",
              "       'Gentoo', 'Gentoo', 'Gentoo', 'Gentoo', 'Gentoo', 'Gentoo',\n",
              "       'Gentoo', 'Gentoo', 'Gentoo', 'Gentoo', 'Gentoo', 'Gentoo',\n",
              "       'Gentoo', 'Gentoo'], dtype=object)"
            ]
          },
          "metadata": {},
          "execution_count": 60
        }
      ]
    },
    {
      "cell_type": "code",
      "source": [
        "tree.score(X, y)"
      ],
      "metadata": {
        "colab": {
          "base_uri": "https://localhost:8080/"
        },
        "id": "fOAgKs1z8ABD",
        "outputId": "abb09592-7c33-4a39-dff8-5fbb6c872111"
      },
      "execution_count": null,
      "outputs": [
        {
          "output_type": "execute_result",
          "data": {
            "text/plain": [
              "1.0"
            ]
          },
          "metadata": {},
          "execution_count": 61
        }
      ]
    },
    {
      "cell_type": "code",
      "source": [
        "import sklearn.model_selection"
      ],
      "metadata": {
        "id": "dS4HIanz8P_G"
      },
      "execution_count": null,
      "outputs": []
    },
    {
      "cell_type": "code",
      "source": [
        "X_train, X_val, y_train, y_val = sklearn.model_selection.train_test_split(X, y, random_state=42)"
      ],
      "metadata": {
        "id": "p7_hmRsg-KHm"
      },
      "execution_count": null,
      "outputs": []
    },
    {
      "cell_type": "code",
      "source": [
        "tree = sklearn.tree.DecisionTreeClassifier()\n",
        "# passe den Entscheidungsbaum an die Daten an (Training)\n",
        "tree.fit(X_train, y_train)\n",
        "# mache Vorhersagen auf Grundlage von X_val und überprüfe wie gut sie sind, mit y_val (Validation) - berechne Accuracy\n",
        "tree.score(X_val, y_val)"
      ],
      "metadata": {
        "colab": {
          "base_uri": "https://localhost:8080/"
        },
        "id": "Az_lUOEu_DA7",
        "outputId": "7c61c0b3-2fe3-49f6-f244-abade753f47d"
      },
      "execution_count": null,
      "outputs": [
        {
          "output_type": "execute_result",
          "data": {
            "text/plain": [
              "0.9534883720930233"
            ]
          },
          "metadata": {},
          "execution_count": 81
        }
      ]
    },
    {
      "cell_type": "code",
      "source": [
        "tree.score(X_train, y_train)"
      ],
      "metadata": {
        "colab": {
          "base_uri": "https://localhost:8080/"
        },
        "id": "cTZlXxPQB3Un",
        "outputId": "0994eafd-84a9-4121-f3b9-5c44a963629d"
      },
      "execution_count": null,
      "outputs": [
        {
          "output_type": "execute_result",
          "data": {
            "text/plain": [
              "1.0"
            ]
          },
          "metadata": {},
          "execution_count": 82
        }
      ]
    },
    {
      "cell_type": "markdown",
      "source": [
        "#### Hyperparemeter"
      ],
      "metadata": {
        "id": "eKH5SL_zBY5Z"
      }
    },
    {
      "cell_type": "code",
      "source": [
        "tree = sklearn.tree.DecisionTreeClassifier(max_depth=3)\n",
        "tree.fit(X_train, y_train)\n",
        "tree.score(X_val, y_val)"
      ],
      "metadata": {
        "colab": {
          "base_uri": "https://localhost:8080/"
        },
        "id": "m0v8Kg6C_NS-",
        "outputId": "7ffbe66e-233d-42e2-82f0-023bd4956ed3"
      },
      "execution_count": null,
      "outputs": [
        {
          "output_type": "execute_result",
          "data": {
            "text/plain": [
              "0.9302325581395349"
            ]
          },
          "metadata": {},
          "execution_count": 89
        }
      ]
    },
    {
      "cell_type": "code",
      "source": [
        "for i in range(10):\n",
        "  tree = sklearn.tree.DecisionTreeClassifier(max_depth=i+1)\n",
        "  tree.fit(X_train, y_train)\n",
        "  print(i+1, tree.score(X_val, y_val))"
      ],
      "metadata": {
        "colab": {
          "base_uri": "https://localhost:8080/"
        },
        "id": "k8e04aC2CJcg",
        "outputId": "b15d00e5-19b0-45fa-b4fa-379011f3cab8"
      },
      "execution_count": null,
      "outputs": [
        {
          "output_type": "stream",
          "name": "stdout",
          "text": [
            "1 0.7558139534883721\n",
            "2 0.9069767441860465\n",
            "3 0.9302325581395349\n",
            "4 0.9534883720930233\n",
            "5 0.9534883720930233\n",
            "6 0.9418604651162791\n",
            "7 0.9418604651162791\n",
            "8 0.9534883720930233\n",
            "9 0.9534883720930233\n",
            "10 0.9418604651162791\n"
          ]
        }
      ]
    },
    {
      "cell_type": "markdown",
      "source": [
        "### KNN"
      ],
      "metadata": {
        "id": "GVYq0PEnDK8-"
      }
    },
    {
      "cell_type": "code",
      "source": [
        "knn = sklearn.neighbors.KNeighborsClassifier(n_neighbors=5)\n",
        "knn.fit(X_train, y_train)\n",
        "knn.score(X_val, y_val)"
      ],
      "metadata": {
        "colab": {
          "base_uri": "https://localhost:8080/"
        },
        "id": "dDXmqN--Cm5j",
        "outputId": "d442213a-3906-4ec4-ee2f-d99df26b3ab0"
      },
      "execution_count": null,
      "outputs": [
        {
          "output_type": "execute_result",
          "data": {
            "text/plain": [
              "0.9651162790697675"
            ]
          },
          "metadata": {},
          "execution_count": 94
        }
      ]
    },
    {
      "cell_type": "markdown",
      "source": [
        "# Aufgaben für den Nachmittag\n",
        "\n",
        "- Baumdaten erkunden (Plots)\n",
        "- Verschiedene Modelle ausprobieren (DecisionTreeClassifier, KNeighborsClassifier, ...)\n",
        "- Verschiedene Hyperparameter ausprobieren (max_depth, n_neighbors, ...)\n",
        "\n",
        "## später gemeinsam\n",
        "\n",
        "- Vorhersagen auf unbekannten Daten machen und abspeichern\n",
        "- Ihr schickt mir bis zu 2 Vorhersagen\n",
        "- Morgen: wir schauen wer gewonnen hat"
      ],
      "metadata": {
        "id": "ysj7gPFrE0jT"
      }
    },
    {
      "cell_type": "code",
      "source": [],
      "metadata": {
        "id": "5HvsPx5YEFOd"
      },
      "execution_count": null,
      "outputs": []
    }
  ]
}