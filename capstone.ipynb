{
  "nbformat": 4,
  "nbformat_minor": 0,
  "metadata": {
    "colab": {
      "provenance": [],
      "authorship_tag": "ABX9TyPc3JRu144BZh49W64VfIuV",
      "include_colab_link": true
    },
    "kernelspec": {
      "name": "python3",
      "display_name": "Python 3"
    },
    "language_info": {
      "name": "python"
    }
  },
  "cells": [
    {
      "cell_type": "markdown",
      "metadata": {
        "id": "view-in-github",
        "colab_type": "text"
      },
      "source": [
        "<a href=\"https://colab.research.google.com/github/rodirk/spezielle_bioinfo_2_22/blob/main/capstone.ipynb\" target=\"_parent\"><img src=\"https://colab.research.google.com/assets/colab-badge.svg\" alt=\"Open In Colab\"/></a>"
      ]
    },
    {
      "cell_type": "markdown",
      "source": [
        "# Capstone Challenge\n",
        "\n",
        "Write a Python program that uses skimage to count the number of bacteria colonies in each image, and for each, produce a new image that highlights the colonies. The image should look similar to this one:\n",
        "\n",
        "![Sample morphometric output](https://datacarpentry.org/image-processing/fig/colonies-01-summary.png)\n",
        "\n",
        "Additionally, print out the number of colonies for each image.\n",
        "\n",
        "Use what you have learnt about histograms, thresholding and connected component analysis. Try to put your code into a re-usable function, so that it can be applied easily to any image file."
      ],
      "metadata": {
        "id": "ZNpkaOo2rG4U"
      }
    },
    {
      "cell_type": "code",
      "execution_count": null,
      "metadata": {
        "id": "AkodTDFMrE21"
      },
      "outputs": [],
      "source": []
    }
  ]
}